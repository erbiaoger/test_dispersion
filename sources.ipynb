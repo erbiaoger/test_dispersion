{
 "cells": [
  {
   "cell_type": "code",
   "execution_count": null,
   "metadata": {},
   "outputs": [],
   "source": []
  },
  {
   "cell_type": "code",
   "execution_count": null,
   "metadata": {},
   "outputs": [],
   "source": []
  },
  {
   "cell_type": "code",
   "execution_count": 1,
   "metadata": {},
   "outputs": [],
   "source": [
    "import numpy as np\n",
    "\n",
    "\n",
    "n_source = 3\n",
    "\n",
    "x_start = 30.000000\n",
    "x_end = 170.000000\n",
    "zs = 50.000000\n",
    "\n",
    "for i, xs in enumerate(np.linspace(x_start, x_end, n_source)):\n",
    "    text = f\"\"\"## 参数\n",
    "source_surf = .false.\n",
    "xs = {xs:.6f}\n",
    "zs = {zs:.6f}\n",
    "source_type = 1 \n",
    "time_function_type = 1\n",
    "\n",
    "\n",
    "name_of_source_file= \"\"\n",
    "burst_band_width= 0.\n",
    "f0 = 30.000000          # 源频率\n",
    "tshift = 0.0\n",
    "anglesource = 0.0\n",
    "Mxx = 1.0\n",
    "Mzz = 1.0\n",
    "Mxz = 0.0\n",
    "factor = 10000000.0  # 源强度\n",
    "vx     =0\n",
    "vz     =0\n",
    "    \"\"\"\n",
    "    with open(f\"specfem2d_workdir/DATA/SOURCE_{i+1:03d}\", \"w\") as f:\n",
    "        f.write(text)\n"
   ]
  }
 ],
 "metadata": {
  "kernelspec": {
   "display_name": "base",
   "language": "python",
   "name": "python3"
  },
  "language_info": {
   "codemirror_mode": {
    "name": "ipython",
    "version": 3
   },
   "file_extension": ".py",
   "mimetype": "text/x-python",
   "name": "python",
   "nbconvert_exporter": "python",
   "pygments_lexer": "ipython3",
   "version": "3.9.16"
  }
 },
 "nbformat": 4,
 "nbformat_minor": 2
}
