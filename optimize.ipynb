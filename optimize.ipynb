{
 "cells": [
  {
   "cell_type": "code",
   "execution_count": 1,
   "metadata": {},
   "outputs": [],
   "source": [
    "import numpy as np\n",
    "import matplotlib.pyplot as plt\n",
    "\n"
   ]
  },
  {
   "cell_type": "code",
   "execution_count": 11,
   "metadata": {},
   "outputs": [
    {
     "data": {
      "text/plain": [
       "{'_files': ['fmt.npy', 'vp_kernel.npy', 'vs_kernel.npy'],\n",
       " 'files': ['fmt', 'vp_kernel', 'vs_kernel'],\n",
       " 'allow_pickle': False,\n",
       " 'pickle_kwargs': {'encoding': 'ASCII', 'fix_imports': True},\n",
       " 'zip': <zipfile.ZipFile file=<_io.BufferedReader name='scratch/optimize/g_new.npz'> mode='r'>,\n",
       " 'f': <numpy.lib.npyio.BagObj at 0x7fd47f66a610>,\n",
       " 'fid': <_io.BufferedReader name='scratch/optimize/g_new.npz'>}"
      ]
     },
     "execution_count": 11,
     "metadata": {},
     "output_type": "execute_result"
    }
   ],
   "source": [
    "g_new = np.load('scratch/optimize/g_new.npz')\n",
    "g_new.__dict__"
   ]
  },
  {
   "cell_type": "code",
   "execution_count": 14,
   "metadata": {},
   "outputs": [],
   "source": [
    "g_new.allow_pickle = True"
   ]
  },
  {
   "cell_type": "code",
   "execution_count": 15,
   "metadata": {},
   "outputs": [
    {
     "data": {
      "text/plain": [
       "array([array([0., 0., 0., ..., 0., 0., 0.]),\n",
       "       array([0., 0., 0., ..., 0., 0., 0.]),\n",
       "       array([0., 0., 0., ..., 0., 0., 0.]),\n",
       "       array([0., 0., 0., ..., 0., 0., 0.]),\n",
       "       array([0., 0., 0., ..., 0., 0., 0.]),\n",
       "       array([0., 0., 0., ..., 0., 0., 0.]),\n",
       "       array([0., 0., 0., ..., 0., 0., 0.]),\n",
       "       array([0., 0., 0., ..., 0., 0., 0.])], dtype=object)"
      ]
     },
     "execution_count": 15,
     "metadata": {},
     "output_type": "execute_result"
    }
   ],
   "source": [
    "g_new['vp_kernel']"
   ]
  },
  {
   "cell_type": "code",
   "execution_count": 9,
   "metadata": {},
   "outputs": [
    {
     "data": {
      "text/plain": [
       "{'_files': ['restarted.npy',\n",
       "  'func_vals.npy',\n",
       "  'step_lens.npy',\n",
       "  'gtg.npy',\n",
       "  'gtp.npy',\n",
       "  'step_count.npy',\n",
       "  'step_len_max.npy',\n",
       "  'LBFGS_iter.npy',\n",
       "  'memory_used.npy'],\n",
       " 'files': ['restarted',\n",
       "  'func_vals',\n",
       "  'step_lens',\n",
       "  'gtg',\n",
       "  'gtp',\n",
       "  'step_count',\n",
       "  'step_len_max',\n",
       "  'LBFGS_iter',\n",
       "  'memory_used'],\n",
       " 'allow_pickle': False,\n",
       " 'pickle_kwargs': {'encoding': 'ASCII', 'fix_imports': True},\n",
       " 'zip': <zipfile.ZipFile file=<_io.BufferedReader name='scratch/optimize/checkpoint.npz'> mode='r'>,\n",
       " 'f': <numpy.lib.npyio.BagObj at 0x7fd47f6f9c10>,\n",
       " 'fid': <_io.BufferedReader name='scratch/optimize/checkpoint.npz'>}"
      ]
     },
     "execution_count": 9,
     "metadata": {},
     "output_type": "execute_result"
    }
   ],
   "source": [
    "checkpoint = np.load('scratch/optimize/checkpoint.npz')\n",
    "checkpoint.__dict__"
   ]
  }
 ],
 "metadata": {
  "kernelspec": {
   "display_name": "base",
   "language": "python",
   "name": "python3"
  },
  "language_info": {
   "codemirror_mode": {
    "name": "ipython",
    "version": 3
   },
   "file_extension": ".py",
   "mimetype": "text/x-python",
   "name": "python",
   "nbconvert_exporter": "python",
   "pygments_lexer": "ipython3",
   "version": "3.9.16"
  }
 },
 "nbformat": 4,
 "nbformat_minor": 2
}
