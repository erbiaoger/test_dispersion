{
 "cells": [
  {
   "cell_type": "code",
   "execution_count": 1,
   "metadata": {},
   "outputs": [
    {
     "name": "stdout",
     "output_type": "stream",
     "text": [
      "running example: Wed 03 Jul 2024 10:37:56 AM CST\n",
      "\n",
      "setting up example...\n",
      "\n",
      "\n",
      "running mesher...\n",
      "\n"
     ]
    },
    {
     "name": "stderr",
     "output_type": "stream",
     "text": [
      "cp: cannot stat 'DATA/Par_file': No such file or directory\n",
      "cp: cannot stat 'DATA/SOURCE': No such file or directory\n",
      "grep: DATA/Par_file: No such file or directory\n",
      "./specfem2d_workdir/run_this_example.sh: line 44: ./xmeshfem2D: No such file or directory\n"
     ]
    },
    {
     "data": {
      "text/plain": [
       "256"
      ]
     },
     "execution_count": 1,
     "metadata": {},
     "output_type": "execute_result"
    }
   ],
   "source": [
    "import os\n",
    "import sys\n",
    "from getPath import getpath\n",
    "\n",
    "os.chdir(getpath() + \"/specfem2d_workdir/\"\n",
    "os.system(\"./run_this_example.sh\")\n"
   ]
  }
 ],
 "metadata": {
  "kernelspec": {
   "display_name": "base",
   "language": "python",
   "name": "python3"
  },
  "language_info": {
   "codemirror_mode": {
    "name": "ipython",
    "version": 3
   },
   "file_extension": ".py",
   "mimetype": "text/x-python",
   "name": "python",
   "nbconvert_exporter": "python",
   "pygments_lexer": "ipython3",
   "version": "3.9.16"
  }
 },
 "nbformat": 4,
 "nbformat_minor": 2
}
